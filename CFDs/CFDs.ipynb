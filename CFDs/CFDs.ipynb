{
 "cells": [
  {
   "cell_type": "code",
   "execution_count": 2,
   "metadata": {},
   "outputs": [],
   "source": [
    "import os\n",
    "import sys\n",
    "import json\n",
    "\n",
    "# in order to recognize the utils, I had to add project root to sys.path\n",
    "project_root = os.path.abspath(os.path.join(os.getcwd(), '..'))\n",
    "\n",
    "if project_root not in sys.path:\n",
    "    sys.path.append(project_root)\n",
    "\n",
    "from utils.cfd_utils import run_cfd_discovery\n",
    "from utils.cfd_utils import *\n",
    "from preprocessing.preprocessing_pipeline import *\n"
   ]
  },
  {
   "cell_type": "code",
   "execution_count": 3,
   "metadata": {},
   "outputs": [],
   "source": [
    "config_path_CFD = os.path.join(project_root, 'configs', 'CFD_config.json')\n",
    "cleaned_data_for_cfd = pd.read_csv('../outputs/cleaned_data_for_cfd.csv')\n",
    "input_csv = os.path.join(project_root, 'outputs', 'cleaned_data_for_cfd.csv')\n",
    "output_txt = os.path.join(project_root, 'outputs', 'raw_cfd.txt')\n",
    "\n",
    "\n",
    "with open(config_path_CFD, 'r') as f:\n",
    "     config_CFD = json.load(f)\n",
    "\n",
    "\n",
    "condlhs  = config_CFD[\"CFDParsing\"][\"conditionslhs\"]\n",
    "condrhs  = config_CFD[\"CFDParsing\"][\"conditionsrhs\"]\n"
   ]
  },
  {
   "cell_type": "code",
   "execution_count": null,
   "metadata": {},
   "outputs": [
    {
     "name": "stdout",
     "output_type": "stream",
     "text": [
      "CFD discovery algorithm completed successfully! Output saved to c:\\Users\\deart\\Desktop\\Tesi\\My_Work\\outputs\\raw_cfd.txt\n",
      "Total number of dependencies in the dictionary: 96\n",
      "The first 50 dependencies:\n",
      "\n",
      "1) {'lhs': {'education-degree': 'Elementary'}, 'rhs': {'income': '<=50k'}}\n",
      "2) {'lhs': {'education-degree': 'MiddleSchool'}, 'rhs': {'income': '<=50k'}}\n",
      "3) {'lhs': {'age_range': '15-30'}, 'rhs': {'income': '<=50k'}}\n",
      "4) {'lhs': {'age_range': '15-30', 'education-degree': 'Assoc'}, 'rhs': {'income': '<=50k'}}\n",
      "5) {'lhs': {'education-degree': 'MiddleSchool', 'age_range': '15-30'}, 'rhs': {'income': '<=50k'}}\n",
      "6) {'lhs': {'education-degree': 'HS-College', 'age_range': '15-30'}, 'rhs': {'income': '<=50k'}}\n",
      "7) {'lhs': {'hours-per-week_range': '0-20'}, 'rhs': {'income': '<=50k'}}\n",
      "8) {'lhs': {'hours-per-week_range': '0-20', 'education-degree': 'Assoc'}, 'rhs': {'income': '<=50k'}}\n",
      "9) {'lhs': {'hours-per-week_range': '21-40', 'education-degree': 'MiddleSchool'}, 'rhs': {'income': '<=50k'}}\n",
      "10) {'lhs': {'hours-per-week_range': '21-40', 'education-degree': 'HS-College'}, 'rhs': {'income': '<=50k'}}\n",
      "11) {'lhs': {'hours-per-week_range': '0-20', 'age_range': '15-30'}, 'rhs': {'income': '<=50k'}}\n",
      "12) {'lhs': {'hours-per-week_range': '21-40', 'age_range': '15-30'}, 'rhs': {'income': '<=50k'}}\n",
      "13) {'lhs': {'income': '>50k'}, 'rhs': {'native-country': 'united-states'}}\n",
      "14) {'lhs': {'income': '<=50k'}, 'rhs': {'native-country': 'united-states'}}\n",
      "15) {'lhs': {'native-country': 'united-states', 'education-degree': 'MiddleSchool'}, 'rhs': {'income': '<=50k'}}\n",
      "16) {'lhs': {'income': '>50k', 'education-degree': 'Assoc'}, 'rhs': {'native-country': 'united-states'}}\n",
      "17) {'lhs': {'education-degree': 'Mast', 'income': '>50k'}, 'rhs': {'native-country': 'united-states'}}\n",
      "18) {'lhs': {'education-degree': 'HS-College', 'income': '>50k'}, 'rhs': {'native-country': 'united-states'}}\n",
      "19) {'lhs': {'education-degree': 'Bach', 'income': '>50k'}, 'rhs': {'native-country': 'united-states'}}\n",
      "20) {'lhs': {'income': '<=50k', 'education-degree': 'Assoc'}, 'rhs': {'native-country': 'united-states'}}\n",
      "21) {'lhs': {'income': '<=50k', 'education-degree': 'Mast'}, 'rhs': {'native-country': 'united-states'}}\n",
      "22) {'lhs': {'income': '<=50k', 'education-degree': 'MiddleSchool'}, 'rhs': {'native-country': 'united-states'}}\n",
      "23) {'lhs': {'income': '<=50k', 'education-degree': 'HS-College'}, 'rhs': {'native-country': 'united-states'}}\n",
      "24) {'lhs': {'income': '<=50k', 'education-degree': 'Bach'}, 'rhs': {'native-country': 'united-states'}}\n",
      "25) {'lhs': {'native-country': 'united-states', 'age_range': '15-30'}, 'rhs': {'income': '<=50k'}}\n",
      "26) {'lhs': {'age_range': '45-60', 'income': '>50k'}, 'rhs': {'native-country': 'united-states'}}\n",
      "27) {'lhs': {'age_range': '30-45', 'income': '>50k'}, 'rhs': {'native-country': 'united-states'}}\n",
      "28) {'lhs': {'income': '<=50k', 'age_range': '60-75'}, 'rhs': {'native-country': 'united-states'}}\n",
      "29) {'lhs': {'income': '<=50k', 'age_range': '15-30'}, 'rhs': {'native-country': 'united-states'}}\n",
      "30) {'lhs': {'income': '<=50k', 'age_range': '45-60'}, 'rhs': {'native-country': 'united-states'}}\n",
      "31) {'lhs': {'income': '<=50k', 'age_range': '30-45'}, 'rhs': {'native-country': 'united-states'}}\n",
      "32) {'lhs': {'native-country': 'united-states', 'hours-per-week_range': '0-20'}, 'rhs': {'income': '<=50k'}}\n",
      "33) {'lhs': {'income': '>50k', 'hours-per-week_range': '41-60'}, 'rhs': {'native-country': 'united-states'}}\n",
      "34) {'lhs': {'hours-per-week_range': '21-40', 'income': '>50k'}, 'rhs': {'native-country': 'united-states'}}\n",
      "35) {'lhs': {'income': '<=50k', 'hours-per-week_range': '41-60'}, 'rhs': {'native-country': 'united-states'}}\n",
      "36) {'lhs': {'income': '<=50k', 'hours-per-week_range': '0-20'}, 'rhs': {'native-country': 'united-states'}}\n",
      "37) {'lhs': {'income': '<=50k', 'hours-per-week_range': '21-40'}, 'rhs': {'native-country': 'united-states'}}\n",
      "38) {'lhs': {'sex': 'female'}, 'rhs': {'income': '<=50k'}}\n",
      "39) {'lhs': {'native-country': 'united-states', 'sex': 'female'}, 'rhs': {'income': '<=50k'}}\n",
      "40) {'lhs': {'sex': 'female', 'income': '>50k'}, 'rhs': {'native-country': 'united-states'}}\n",
      "41) {'lhs': {'income': '<=50k', 'sex': 'female'}, 'rhs': {'native-country': 'united-states'}}\n",
      "42) {'lhs': {'sex': 'male', 'income': '>50k'}, 'rhs': {'native-country': 'united-states'}}\n",
      "43) {'lhs': {'sex': 'male', 'income': '<=50k'}, 'rhs': {'native-country': 'united-states'}}\n",
      "44) {'lhs': {'sex': 'female', 'education-degree': 'Assoc'}, 'rhs': {'income': '<=50k'}}\n",
      "45) {'lhs': {'education-degree': 'HS-College', 'sex': 'female'}, 'rhs': {'income': '<=50k'}}\n",
      "46) {'lhs': {'sex': 'male', 'education-degree': 'MiddleSchool'}, 'rhs': {'income': '<=50k'}}\n",
      "47) {'lhs': {'education-degree': 'HS-College', 'income': '>50k'}, 'rhs': {'sex': 'male'}}\n",
      "48) {'lhs': {'hours-per-week_range': '0-20', 'sex': 'female'}, 'rhs': {'income': '<=50k'}}\n",
      "49) {'lhs': {'hours-per-week_range': '21-40', 'sex': 'female'}, 'rhs': {'income': '<=50k'}}\n",
      "50) {'lhs': {'sex': 'male', 'hours-per-week_range': '0-20'}, 'rhs': {'income': '<=50k'}}\n"
     ]
    }
   ],
   "source": [
    "#running the CFDDiscovery algorithm to extract raw dependencies based on parameter in CFD_config.\n",
    "run_cfd_discovery(config_path_CFD, input_csv, output_txt)\n",
    "raw_cfds = load_raw_cfds(output_txt) \n",
    "\n",
    "\n",
    "\n",
    "def filter_cfds(raw_cfds, config_CFD):\n",
    "    lines = filter_by_target_value(raw_cfds, config_CFD, print_summary=False)\n",
    "    lines = replace_incomparable_symbols(lines)  \n",
    "    lines = remove_parentheses(lines)\n",
    "    lines= remove_lines_without_arrow(lines, config_CFD) #is this really needed???? CFDDiscovery I think guarantees implication direction =>\n",
    "    \n",
    "\n",
    "    #filterRules remove FDs and keep CFDs. #optional: we can also delete some rules that are not interested for us by\n",
    "    #specifiying condrhs and condlhs values like \"conditionslhs\": [\"age-range=15-30\"] or [[\"income=<50K\"], [\"workclass=private\"]]\n",
    "    #But for now we set these condrhs and condlhs as empty in config!\n",
    "    final = filterRules(lines, config_CFD, condlhs, condrhs, print_summary= False)\n",
    "    \n",
    "    dict_cfds = parse_rules_to_dict(final, print_summary=True)\n",
    "    \n",
    "    return dict_cfds\n",
    "\n",
    "\n",
    "dict_cfds = filter_cfds(raw_cfds, config_CFD)"
   ]
  }
 ],
 "metadata": {
  "kernelspec": {
   "display_name": "base",
   "language": "python",
   "name": "python3"
  },
  "language_info": {
   "codemirror_mode": {
    "name": "ipython",
    "version": 3
   },
   "file_extension": ".py",
   "mimetype": "text/x-python",
   "name": "python",
   "nbconvert_exporter": "python",
   "pygments_lexer": "ipython3",
   "version": "3.12.7"
  }
 },
 "nbformat": 4,
 "nbformat_minor": 2
}
